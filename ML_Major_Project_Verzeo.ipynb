{
 "nbformat": 4,
 "nbformat_minor": 0,
 "metadata": {
  "colab": {
   "name": "Untitled0.ipynb",
   "provenance": []
  },
  "kernelspec": {
   "name": "python3",
   "display_name": "Python 3"
  }
 },
 "cells": [
  {
   "cell_type": "markdown",
   "metadata": {
    "id": "qqfSIW4r5ozW"
   },
   "source": [
    "# **Himanshu Singh**\n",
    "# hshimanshusingh001@gmail.com\n",
    "\n",
    "\n",
    "# **Major Project-IPL Score Prediction**\n"
   ]
  },
  {
   "cell_type": "markdown",
   "metadata": {
    "id": "fShS3ofax1Mo"
   },
   "source": [
    "# **Importing** **Dataset**"
   ]
  },
  {
   "cell_type": "code",
   "metadata": {
    "id": "Hl2hCzcTwMeK",
    "outputId": "8b710f36-64f4-404e-efad-a86478ae522c",
    "colab": {
     "base_uri": "https://localhost:8080/",
     "height": 54
    }
   },
   "source": [
    "# Importing libraries\n",
    "import numpy as np\n",
    "import pandas as pd\n",
    "\n",
    "# Loading the dataset\n",
    "from google.colab import drive\n",
    "drive.mount(\"/content/gdrive\")"
   ],
   "execution_count": 15,
   "outputs": [
    {
     "output_type": "stream",
     "text": [
      "Drive already mounted at /content/gdrive; to attempt to forcibly remount, call drive.mount(\"/content/gdrive\", force_remount=True).\n"
     ],
     "name": "stdout"
    }
   ]
  },
  {
   "cell_type": "markdown",
   "metadata": {
    "id": "G5ybYZOgDQDM"
   },
   "source": [
    "# **Exploring the** **dataset**"
   ]
  },
  {
   "cell_type": "code",
   "metadata": {
    "id": "wjxZNkTDkITj"
   },
   "source": [
    "import numpy as np\n",
    "import pandas as pd\n",
    "df = pd.read_csv(\"/content/gdrive/My Drive/Major Project/ipl2017.csv\") # we import the csv file and then put it to df\n"
   ],
   "execution_count": 23,
   "outputs": []
  },
  {
   "cell_type": "code",
   "metadata": {
    "id": "NTBAX8BTnSiI",
    "outputId": "13ee44b7-4770-485f-b10f-710467faaf69",
    "colab": {
     "base_uri": "https://localhost:8080/",
     "height": 34
    }
   },
   "source": [
    "df.shape # gives the dimensions of dataframe "
   ],
   "execution_count": 24,
   "outputs": [
    {
     "output_type": "execute_result",
     "data": {
      "text/plain": [
       "(76014, 15)"
      ]
     },
     "metadata": {
      "tags": []
     },
     "execution_count": 24
    }
   ]
  },
  {
   "cell_type": "code",
   "metadata": {
    "id": "kImFQUJFnSqE",
    "outputId": "64749c4f-fbdf-4395-bb06-4f629e9bf1f2",
    "colab": {
     "base_uri": "https://localhost:8080/",
     "height": 84
    }
   },
   "source": [
    "df.columns #returns all the coloumn names"
   ],
   "execution_count": 25,
   "outputs": [
    {
     "output_type": "execute_result",
     "data": {
      "text/plain": [
       "Index(['mid', 'date', 'venue', 'bat_team', 'bowl_team', 'batsman', 'bowler',\n",
       "       'runs', 'wickets', 'overs', 'runs_last_5', 'wickets_last_5', 'striker',\n",
       "       'non-striker', 'total'],\n",
       "      dtype='object')"
      ]
     },
     "metadata": {
      "tags": []
     },
     "execution_count": 25
    }
   ]
  },
  {
   "cell_type": "code",
   "metadata": {
    "id": "T4fasxsVnStA",
    "outputId": "2195d5d0-0e57-4a63-b114-7311549c25dd",
    "colab": {
     "base_uri": "https://localhost:8080/",
     "height": 286
    }
   },
   "source": [
    "df.dtypes #returns the type of each column "
   ],
   "execution_count": 26,
   "outputs": [
    {
     "output_type": "execute_result",
     "data": {
      "text/plain": [
       "mid                 int64\n",
       "date               object\n",
       "venue              object\n",
       "bat_team           object\n",
       "bowl_team          object\n",
       "batsman            object\n",
       "bowler             object\n",
       "runs                int64\n",
       "wickets             int64\n",
       "overs             float64\n",
       "runs_last_5         int64\n",
       "wickets_last_5      int64\n",
       "striker             int64\n",
       "non-striker         int64\n",
       "total               int64\n",
       "dtype: object"
      ]
     },
     "metadata": {
      "tags": []
     },
     "execution_count": 26
    }
   ]
  },
  {
   "cell_type": "code",
   "metadata": {
    "id": "KxY5UYeynSwC",
    "outputId": "a0c74c26-35c1-4789-c784-7f2c5845d6ae",
    "colab": {
     "base_uri": "https://localhost:8080/",
     "height": 296
    }
   },
   "source": [
    "df.head() # returns the first five values "
   ],
   "execution_count": 27,
   "outputs": [
    {
     "output_type": "execute_result",
     "data": {
      "text/html": [
       "<div>\n",
       "<style scoped>\n",
       "    .dataframe tbody tr th:only-of-type {\n",
       "        vertical-align: middle;\n",
       "    }\n",
       "\n",
       "    .dataframe tbody tr th {\n",
       "        vertical-align: top;\n",
       "    }\n",
       "\n",
       "    .dataframe thead th {\n",
       "        text-align: right;\n",
       "    }\n",
       "</style>\n",
       "<table border=\"1\" class=\"dataframe\">\n",
       "  <thead>\n",
       "    <tr style=\"text-align: right;\">\n",
       "      <th></th>\n",
       "      <th>mid</th>\n",
       "      <th>date</th>\n",
       "      <th>venue</th>\n",
       "      <th>bat_team</th>\n",
       "      <th>bowl_team</th>\n",
       "      <th>batsman</th>\n",
       "      <th>bowler</th>\n",
       "      <th>runs</th>\n",
       "      <th>wickets</th>\n",
       "      <th>overs</th>\n",
       "      <th>runs_last_5</th>\n",
       "      <th>wickets_last_5</th>\n",
       "      <th>striker</th>\n",
       "      <th>non-striker</th>\n",
       "      <th>total</th>\n",
       "    </tr>\n",
       "  </thead>\n",
       "  <tbody>\n",
       "    <tr>\n",
       "      <th>0</th>\n",
       "      <td>1</td>\n",
       "      <td>2008-04-18</td>\n",
       "      <td>M Chinnaswamy Stadium</td>\n",
       "      <td>Kolkata Knight Riders</td>\n",
       "      <td>Royal Challengers Bangalore</td>\n",
       "      <td>SC Ganguly</td>\n",
       "      <td>P Kumar</td>\n",
       "      <td>1</td>\n",
       "      <td>0</td>\n",
       "      <td>0.1</td>\n",
       "      <td>1</td>\n",
       "      <td>0</td>\n",
       "      <td>0</td>\n",
       "      <td>0</td>\n",
       "      <td>222</td>\n",
       "    </tr>\n",
       "    <tr>\n",
       "      <th>1</th>\n",
       "      <td>1</td>\n",
       "      <td>2008-04-18</td>\n",
       "      <td>M Chinnaswamy Stadium</td>\n",
       "      <td>Kolkata Knight Riders</td>\n",
       "      <td>Royal Challengers Bangalore</td>\n",
       "      <td>BB McCullum</td>\n",
       "      <td>P Kumar</td>\n",
       "      <td>1</td>\n",
       "      <td>0</td>\n",
       "      <td>0.2</td>\n",
       "      <td>1</td>\n",
       "      <td>0</td>\n",
       "      <td>0</td>\n",
       "      <td>0</td>\n",
       "      <td>222</td>\n",
       "    </tr>\n",
       "    <tr>\n",
       "      <th>2</th>\n",
       "      <td>1</td>\n",
       "      <td>2008-04-18</td>\n",
       "      <td>M Chinnaswamy Stadium</td>\n",
       "      <td>Kolkata Knight Riders</td>\n",
       "      <td>Royal Challengers Bangalore</td>\n",
       "      <td>BB McCullum</td>\n",
       "      <td>P Kumar</td>\n",
       "      <td>2</td>\n",
       "      <td>0</td>\n",
       "      <td>0.2</td>\n",
       "      <td>2</td>\n",
       "      <td>0</td>\n",
       "      <td>0</td>\n",
       "      <td>0</td>\n",
       "      <td>222</td>\n",
       "    </tr>\n",
       "    <tr>\n",
       "      <th>3</th>\n",
       "      <td>1</td>\n",
       "      <td>2008-04-18</td>\n",
       "      <td>M Chinnaswamy Stadium</td>\n",
       "      <td>Kolkata Knight Riders</td>\n",
       "      <td>Royal Challengers Bangalore</td>\n",
       "      <td>BB McCullum</td>\n",
       "      <td>P Kumar</td>\n",
       "      <td>2</td>\n",
       "      <td>0</td>\n",
       "      <td>0.3</td>\n",
       "      <td>2</td>\n",
       "      <td>0</td>\n",
       "      <td>0</td>\n",
       "      <td>0</td>\n",
       "      <td>222</td>\n",
       "    </tr>\n",
       "    <tr>\n",
       "      <th>4</th>\n",
       "      <td>1</td>\n",
       "      <td>2008-04-18</td>\n",
       "      <td>M Chinnaswamy Stadium</td>\n",
       "      <td>Kolkata Knight Riders</td>\n",
       "      <td>Royal Challengers Bangalore</td>\n",
       "      <td>BB McCullum</td>\n",
       "      <td>P Kumar</td>\n",
       "      <td>2</td>\n",
       "      <td>0</td>\n",
       "      <td>0.4</td>\n",
       "      <td>2</td>\n",
       "      <td>0</td>\n",
       "      <td>0</td>\n",
       "      <td>0</td>\n",
       "      <td>222</td>\n",
       "    </tr>\n",
       "  </tbody>\n",
       "</table>\n",
       "</div>"
      ],
      "text/plain": [
       "   mid        date                  venue  ... striker non-striker total\n",
       "0    1  2008-04-18  M Chinnaswamy Stadium  ...       0           0   222\n",
       "1    1  2008-04-18  M Chinnaswamy Stadium  ...       0           0   222\n",
       "2    1  2008-04-18  M Chinnaswamy Stadium  ...       0           0   222\n",
       "3    1  2008-04-18  M Chinnaswamy Stadium  ...       0           0   222\n",
       "4    1  2008-04-18  M Chinnaswamy Stadium  ...       0           0   222\n",
       "\n",
       "[5 rows x 15 columns]"
      ]
     },
     "metadata": {
      "tags": []
     },
     "execution_count": 27
    }
   ]
  },
  {
   "cell_type": "code",
   "metadata": {
    "id": "Z3YO9XOnnSyp"
   },
   "source": [
    "Handling missing values"
   ],
   "execution_count": null,
   "outputs": []
  },
  {
   "cell_type": "markdown",
   "metadata": {
    "id": "S76oDpgiq_45"
   },
   "source": [
    "# **Handling missing values** "
   ]
  },
  {
   "cell_type": "code",
   "metadata": {
    "id": "bU3XaXcc8sCu",
    "outputId": "60e76219-f64b-4def-9cb8-09e82302ecf1",
    "colab": {
     "base_uri": "https://localhost:8080/",
     "height": 386
    }
   },
   "source": [
    "df.info() # gives information about all the values of the columns "
   ],
   "execution_count": 28,
   "outputs": [
    {
     "output_type": "stream",
     "text": [
      "<class 'pandas.core.frame.DataFrame'>\n",
      "RangeIndex: 76014 entries, 0 to 76013\n",
      "Data columns (total 15 columns):\n",
      " #   Column          Non-Null Count  Dtype  \n",
      "---  ------          --------------  -----  \n",
      " 0   mid             76014 non-null  int64  \n",
      " 1   date            76014 non-null  object \n",
      " 2   venue           76014 non-null  object \n",
      " 3   bat_team        76014 non-null  object \n",
      " 4   bowl_team       76014 non-null  object \n",
      " 5   batsman         76014 non-null  object \n",
      " 6   bowler          76014 non-null  object \n",
      " 7   runs            76014 non-null  int64  \n",
      " 8   wickets         76014 non-null  int64  \n",
      " 9   overs           76014 non-null  float64\n",
      " 10  runs_last_5     76014 non-null  int64  \n",
      " 11  wickets_last_5  76014 non-null  int64  \n",
      " 12  striker         76014 non-null  int64  \n",
      " 13  non-striker     76014 non-null  int64  \n",
      " 14  total           76014 non-null  int64  \n",
      "dtypes: float64(1), int64(8), object(6)\n",
      "memory usage: 8.7+ MB\n"
     ],
     "name": "stdout"
    }
   ]
  },
  {
   "cell_type": "markdown",
   "metadata": {
    "id": "jWm57BamrW3n"
   },
   "source": [
    "### There are no null values"
   ]
  },
  {
   "cell_type": "markdown",
   "metadata": {
    "id": "9qExxbsKrYgJ"
   },
   "source": [
    "# **Dropping unwanted columns**"
   ]
  },
  {
   "cell_type": "code",
   "metadata": {
    "id": "mSKtaLUZ9edC",
    "outputId": "ed1dcfc5-f6f3-4db4-9921-62dc3b367a37",
    "colab": {
     "base_uri": "https://localhost:8080/",
     "height": 34
    }
   },
   "source": [
    "col_remove=['mid','date', 'venue', 'bat_team', 'bowl_team', 'striker', 'non-striker'] # removes columns with those names \n",
    "df.drop(labels=col_remove, axis=1, inplace=True)\n",
    "print('After removing unwanted columns: {}'.format(df.shape))"
   ],
   "execution_count": 29,
   "outputs": [
    {
     "output_type": "stream",
     "text": [
      "After removing unwanted columns: (76014, 8)\n"
     ],
     "name": "stdout"
    }
   ]
  },
  {
   "cell_type": "code",
   "metadata": {
    "id": "mHrnq89xrjpq",
    "outputId": "41ed01ae-9b57-47e9-f88a-9660571c6c85",
    "colab": {
     "base_uri": "https://localhost:8080/",
     "height": 195
    }
   },
   "source": [
    "df.head()"
   ],
   "execution_count": 30,
   "outputs": [
    {
     "output_type": "execute_result",
     "data": {
      "text/html": [
       "<div>\n",
       "<style scoped>\n",
       "    .dataframe tbody tr th:only-of-type {\n",
       "        vertical-align: middle;\n",
       "    }\n",
       "\n",
       "    .dataframe tbody tr th {\n",
       "        vertical-align: top;\n",
       "    }\n",
       "\n",
       "    .dataframe thead th {\n",
       "        text-align: right;\n",
       "    }\n",
       "</style>\n",
       "<table border=\"1\" class=\"dataframe\">\n",
       "  <thead>\n",
       "    <tr style=\"text-align: right;\">\n",
       "      <th></th>\n",
       "      <th>batsman</th>\n",
       "      <th>bowler</th>\n",
       "      <th>runs</th>\n",
       "      <th>wickets</th>\n",
       "      <th>overs</th>\n",
       "      <th>runs_last_5</th>\n",
       "      <th>wickets_last_5</th>\n",
       "      <th>total</th>\n",
       "    </tr>\n",
       "  </thead>\n",
       "  <tbody>\n",
       "    <tr>\n",
       "      <th>0</th>\n",
       "      <td>SC Ganguly</td>\n",
       "      <td>P Kumar</td>\n",
       "      <td>1</td>\n",
       "      <td>0</td>\n",
       "      <td>0.1</td>\n",
       "      <td>1</td>\n",
       "      <td>0</td>\n",
       "      <td>222</td>\n",
       "    </tr>\n",
       "    <tr>\n",
       "      <th>1</th>\n",
       "      <td>BB McCullum</td>\n",
       "      <td>P Kumar</td>\n",
       "      <td>1</td>\n",
       "      <td>0</td>\n",
       "      <td>0.2</td>\n",
       "      <td>1</td>\n",
       "      <td>0</td>\n",
       "      <td>222</td>\n",
       "    </tr>\n",
       "    <tr>\n",
       "      <th>2</th>\n",
       "      <td>BB McCullum</td>\n",
       "      <td>P Kumar</td>\n",
       "      <td>2</td>\n",
       "      <td>0</td>\n",
       "      <td>0.2</td>\n",
       "      <td>2</td>\n",
       "      <td>0</td>\n",
       "      <td>222</td>\n",
       "    </tr>\n",
       "    <tr>\n",
       "      <th>3</th>\n",
       "      <td>BB McCullum</td>\n",
       "      <td>P Kumar</td>\n",
       "      <td>2</td>\n",
       "      <td>0</td>\n",
       "      <td>0.3</td>\n",
       "      <td>2</td>\n",
       "      <td>0</td>\n",
       "      <td>222</td>\n",
       "    </tr>\n",
       "    <tr>\n",
       "      <th>4</th>\n",
       "      <td>BB McCullum</td>\n",
       "      <td>P Kumar</td>\n",
       "      <td>2</td>\n",
       "      <td>0</td>\n",
       "      <td>0.4</td>\n",
       "      <td>2</td>\n",
       "      <td>0</td>\n",
       "      <td>222</td>\n",
       "    </tr>\n",
       "  </tbody>\n",
       "</table>\n",
       "</div>"
      ],
      "text/plain": [
       "       batsman   bowler  runs  ...  runs_last_5  wickets_last_5  total\n",
       "0   SC Ganguly  P Kumar     1  ...            1               0    222\n",
       "1  BB McCullum  P Kumar     1  ...            1               0    222\n",
       "2  BB McCullum  P Kumar     2  ...            2               0    222\n",
       "3  BB McCullum  P Kumar     2  ...            2               0    222\n",
       "4  BB McCullum  P Kumar     2  ...            2               0    222\n",
       "\n",
       "[5 rows x 8 columns]"
      ]
     },
     "metadata": {
      "tags": []
     },
     "execution_count": 30
    }
   ]
  },
  {
   "cell_type": "code",
   "metadata": {
    "id": "Ch4VIdZFrppd",
    "outputId": "e7ee6bcf-af5c-4c60-ea7e-3ed62827d8f0",
    "colab": {
     "base_uri": "https://localhost:8080/",
     "height": 67
    }
   },
   "source": [
    "df.columns"
   ],
   "execution_count": 31,
   "outputs": [
    {
     "output_type": "execute_result",
     "data": {
      "text/plain": [
       "Index(['batsman', 'bowler', 'runs', 'wickets', 'overs', 'runs_last_5',\n",
       "       'wickets_last_5', 'total'],\n",
       "      dtype='object')"
      ]
     },
     "metadata": {
      "tags": []
     },
     "execution_count": 31
    }
   ]
  },
  {
   "cell_type": "code",
   "metadata": {
    "id": "Gr5BXeWEsA1R",
    "outputId": "03ccc4fc-ee2b-474b-f575-f1ec20ee940d",
    "colab": {
     "base_uri": "https://localhost:8080/",
     "height": 1000
    }
   },
   "source": [
    "df['batsman'].unique() # returns the unrepeated batsman names \n"
   ],
   "execution_count": 32,
   "outputs": [
    {
     "output_type": "execute_result",
     "data": {
      "text/plain": [
       "array(['SC Ganguly', 'BB McCullum', 'RT Ponting', 'DJ Hussey',\n",
       "       'Mohammad Hafeez', 'PA Patel', 'ML Hayden', 'MEK Hussey',\n",
       "       'MS Dhoni', 'SK Raina', 'JDP Oram', 'S Badrinath', 'T Kohli',\n",
       "       'YK Pathan', 'SR Watson', 'M Kaif', 'DS Lehmann', 'RA Jadeja',\n",
       "       'M Rawat', 'D Salunkhe', 'SK Warne', 'SK Trivedi', 'L Ronchi',\n",
       "       'ST Jayasuriya', 'DJ Thornely', 'RV Uthappa', 'PR Shah',\n",
       "       'AM Nayar', 'SM Pollock', 'Harbhajan Singh', 'AC Gilchrist',\n",
       "       'Y Venugopal Rao', 'VVS Laxman', 'A Symonds', 'RG Sharma',\n",
       "       'SB Styris', 'AS Yadav', 'SB Bangar', 'WPUJC Vaas', 'RP Singh',\n",
       "       'K Goel', 'JR Hopes', 'KC Sangakkara', 'DPMD Jayawardene',\n",
       "       'Yuvraj Singh', 'IK Pathan', 'S Sohal', 'B Lee', 'PP Chawla',\n",
       "       'WA Mota', 'Shahid Afridi', 'RR Sarwan', 'S Sreesanth',\n",
       "       'VRV Singh', 'S Chanderpaul', 'R Dravid', 'LRPL Taylor',\n",
       "       'JH Kallis', 'V Kohli', 'MV Boucher', 'P Kumar', 'SB Joshi',\n",
       "       'Z Khan', 'R Vinay Kumar', 'WP Saha', 'LR Shukla', 'AB Agarkar',\n",
       "       'M Kartik', 'I Sharma', 'AM Rahane', 'DJ Bravo', 'MA Khote',\n",
       "       'G Gambhir', 'V Sehwag', 'S Dhawan', 'Shoaib Malik', 'MK Tiwary',\n",
       "       'KD Karthik', 'R Bhatia', 'MF Maharoof', 'VY Mahesh', 'DB Das',\n",
       "       'HH Gibbs', 'DNT Zoysa', 'D Kalyankrishna', 'GC Smith',\n",
       "       'SA Asnodkar', 'Sohail Tanvir', 'SP Fleming', 'S Vidyut',\n",
       "       'JA Morkel', 'LPC Silva', 'DB Ravi Teja', 'SE Marsh',\n",
       "       'YV Takawale', 'SS Tiwary', 'RR Raje', 'Joginder Sharma',\n",
       "       'MS Gony', 'M Muralitharan', 'M Ntini', 'W Jaffer', 'CL White',\n",
       "       'Misbah-ul-Haq', 'DT Patil', 'A Kumble', 'DW Steyn', 'S Anirudha',\n",
       "       'MM Patel', 'AB de Villiers', 'A Chopra', 'BJ Hodge', 'T Taibu',\n",
       "       'Umar Gul', 'PP Ojha', 'SP Goswami', 'B Akhil', 'Salman Butt',\n",
       "       'TM Dilshan', 'A Mishra', 'J Arunkumar', 'Iqbal Abdulla',\n",
       "       'CK Kapugedera', 'LA Pomersbach', 'Shoaib Akhtar', 'AB Dinda',\n",
       "       'SR Tendulkar', 'B Chipli', 'DR Smith', 'SD Chitnis',\n",
       "       'Kamran Akmal', 'TM Srivastava', 'MK Pandey', 'RR Powar',\n",
       "       'JP Duminy', 'JD Ryder', 'KP Pietersen', 'CH Gayle',\n",
       "       'MC Henriques', 'A Flintoff', 'FH Edwards', 'PC Valthaty',\n",
       "       'RJ Quiney', 'AD Mascarenhas', 'AS Raut', 'Pankaj Singh',\n",
       "       'RS Bopara', 'DL Vettori', 'M Manhas', 'PJ Sangwan', 'MN van Wyk',\n",
       "       'AA Bilakhia', 'TL Suman', 'Shoaib Ahmed', 'GR Napier',\n",
       "       'R Bishnoi', 'RE van der Merwe', 'KP Appanna', 'M Vijay',\n",
       "       'SB Jakati', 'L Balaji', 'NV Ojha', 'LA Carseldine', 'RJ Harris',\n",
       "       'D du Preez', 'DS Kulkarni', 'SM Harwood', 'Yashpal Singh',\n",
       "       'AN Ghosh', 'AD Mathews', 'SM Katich', 'DA Warner', 'J Botha',\n",
       "       'A Nehra', 'Mashrafe Mortaza', 'GJ Bailey', 'AB McDonald',\n",
       "       'Y Nagar', 'Niraj Patel', 'T Henderson', 'A Singh', 'R Ashwin',\n",
       "       'T Thushara', 'Mohammad Ashraful', 'CA Pujara', 'OA Shah',\n",
       "       'AP Tare', 'AT Rayudu', 'R Sathish', 'R McLaren', 'MS Bisla',\n",
       "       'YA Abdulla', 'EJG Morgan', 'AA Jhunjhunwala', 'P Dogra',\n",
       "       'A Uniyal', 'KA Pollard', 'MJ Lumb', 'DR Martyn', 'S Narwal',\n",
       "       'M Morkel', 'Anirudh Singh', 'Jaskaran Singh', 'FY Fazal',\n",
       "       'AC Voges', 'MD Mishra', 'J Theron', 'R Sharma', 'Mandeep Singh',\n",
       "       'KM Jadhav', 'SW Tait', 'PD Collingwood', 'VS Malik',\n",
       "       'SJ Srivastava', 'AP Dole', 'Bipul Sharma', 'DE Bollinger',\n",
       "       'BAW Mendis', 'B Sumanth', 'C Madan', 'AG Paunikar', 'AJ Finch',\n",
       "       'MR Marsh', 'STR Binny', 'IR Jaggi', 'DT Christian', 'RV Gomez',\n",
       "       'UBT Chand', 'UT Yadav', 'Sunny Singh', 'NJ Rimmington',\n",
       "       'MA Agarwal', 'AUK Pathan', 'AL Menaria', 'DJ Jacobs',\n",
       "       'WD Parnell', 'TD Paine', 'SB Wagh', 'AC Thomas', 'BJ Haddin',\n",
       "       'NLTC Perera', 'MS Wade', 'JE Taylor', 'RN ten Doeschate',\n",
       "       'SL Malinga', 'AG Murtaza', 'TR Birt', 'Harpreet Singh',\n",
       "       'NL McCullum', 'DH Yagnik', 'AC Blizzard', 'M Klinger',\n",
       "       'I Malhotra', 'A Mithun', 'P Parameswaran', 'AA Chavan',\n",
       "       'ND Doshi', 'CJ Ferguson', 'B Kumar', 'S Rana', 'JEC Franklin',\n",
       "       'Shakib Al Hasan', 'F du Plessis', 'SPD Smith', 'MN Samuels',\n",
       "       'KK Cooper', 'HV Patel', 'Ankit Sharma', 'RE Levi', 'RR Bhatkal',\n",
       "       'Harmeet Singh', 'BA Bhatt', 'CJ McKay', 'DJ Harris', 'N Saini',\n",
       "       'DA Miller', 'Azhar Mahmood', 'A Ashish Reddy', 'V Pratap Singh',\n",
       "       'BB Samantray', 'RJ Peterson', 'S Nadeem', 'VR Aaron', 'MJ Clarke',\n",
       "       'AP Majumdar', 'Gurkeerat Singh', 'P Awana', 'SP Narine',\n",
       "       'A Chandila', 'PA Reddy', 'MC Juneja', 'AD Russell', 'KK Nair',\n",
       "       'KB Arun Karthik', 'GH Vihari', 'MDKJ Perera', 'R Shukla',\n",
       "       'JD Unadkat', 'M Vohra', 'JP Faulkner', 'R Rampaul', 'BJ Rohrer',\n",
       "       'Q de Kock', 'KV Sharma', 'SMSM Senanayake', 'LJ Wright',\n",
       "       'X Thalaivan Sargunam', 'DJG Sammy', 'MG Johnson', 'A Mukund',\n",
       "       'SV Samson', 'BMAJ Mendis', 'KL Rahul', 'CM Gautam',\n",
       "       'KW Richardson', 'Parvez Rasool', 'GJ Maxwell', 'R Dhawan',\n",
       "       'SA Yadav', 'CJ Anderson', 'JJ Bumrah', 'CA Lynn', 'MA Starc',\n",
       "       'AR Patel', 'Sandeep Sharma', 'BR Dunk', 'Shivam Sharma',\n",
       "       'LMP Simmons', 'VH Zol', 'BCJ Cutting', 'Mohammed Shami',\n",
       "       'BE Hendricks', 'S Gopal', 'M de Lange', 'RR Rossouw', 'JO Holder',\n",
       "       'JDS Neesham', 'Imran Tahir', 'MM Sharma', 'DJ Hooda', 'CH Morris',\n",
       "       'SS Iyer', 'SA Abbott', 'AN Ahmed', 'YS Chahal', 'J Suchith',\n",
       "       'P Negi', 'RG More', 'Anureet Singh', 'HH Pandya',\n",
       "       'NM Coulter-Nile', 'PV Tambe', 'MJ McClenaghan', 'DJ Muthuswami',\n",
       "       'SN Thakur', 'SN Khan', 'D Wiese', 'S Aravind', 'JC Buttler',\n",
       "       'CR Brathwaite', 'MP Stoinis', 'C Munro', 'P Sahu', 'KH Pandya',\n",
       "       'TG Southee', 'MJ Guptill', 'KJ Abbott', 'TM Head', 'AD Nath',\n",
       "       'NS Naik', 'Ishan Kishan', 'SW Billings', 'RR Pant',\n",
       "       'KS Williamson', 'KC Cariappa', 'PSP Handscomb', 'Sachin Baby',\n",
       "       'J Yadav', 'UT Khawaja', 'HM Amla', 'BB Sran', 'N Rana',\n",
       "       'F Behardien', 'ER Dwivedi', 'JJ Roy', 'BA Stokes', 'Vishnu Vinod',\n",
       "       'TS Mills', 'Basil Thampi', 'CR Woakes', 'V Shankar',\n",
       "       'Rashid Khan', 'RA Tripathi', 'RD Chahar', 'LH Ferguson',\n",
       "       'C de Grandhomme', 'PJ Cummins', 'Mohammad Nabi', 'Kuldeep Yadav',\n",
       "       'Washington Sundar', 'S Badree', 'A Choudhary', 'AR Bawne',\n",
       "       'AJ Tye', 'Ankit Soni', 'K Rabada', 'AF Milne', 'SP Jackson',\n",
       "       'Swapnil Singh', 'R Tewatia', 'AS Rajpoot'], dtype=object)"
      ]
     },
     "metadata": {
      "tags": []
     },
     "execution_count": 32
    }
   ]
  },
  {
   "cell_type": "code",
   "metadata": {
    "id": "EIM6z0zksC0R",
    "outputId": "03807292-061e-4e0c-a210-3ac6148c95f5",
    "colab": {
     "base_uri": "https://localhost:8080/",
     "height": 1000
    }
   },
   "source": [
    "df['bowler'].unique() #returns unrepeated names of the bowlers "
   ],
   "execution_count": 33,
   "outputs": [
    {
     "output_type": "execute_result",
     "data": {
      "text/plain": [
       "array(['P Kumar', 'Z Khan', 'AA Noffke', 'JH Kallis', 'SB Joshi',\n",
       "       'CL White', 'B Lee', 'S Sreesanth', 'JR Hopes', 'IK Pathan',\n",
       "       'K Goel', 'PP Chawla', 'WA Mota', 'GD McGrath', 'B Geeves',\n",
       "       'MF Maharoof', 'R Bhatia', 'DL Vettori', 'R Vinay Kumar',\n",
       "       'B Akhil', 'AB Dinda', 'I Sharma', 'AB Agarkar', 'M Kartik',\n",
       "       'Mohammad Hafeez', 'DJ Hussey', 'MM Patel', 'SR Watson',\n",
       "       'SK Trivedi', 'SK Warne', 'D Salunkhe', 'Pankaj Singh',\n",
       "       'YK Pathan', 'Mohammad Asif', 'VY Mahesh', 'SM Pollock', 'A Nehra',\n",
       "       'DS Kulkarni', 'Harbhajan Singh', 'DJ Bravo', 'VS Yeligati',\n",
       "       'AM Nayar', 'MA Khote', 'Sohail Tanvir', 'JDP Oram', 'MS Gony',\n",
       "       'P Amarnath', 'M Muralitharan', 'Joginder Sharma', 'RP Singh',\n",
       "       'DNT Zoysa', 'SB Bangar', 'Shahid Afridi', 'PP Ojha',\n",
       "       'D Kalyankrishna', 'VRV Singh', 'Yuvraj Singh', 'DW Steyn',\n",
       "       'CRD Fernando', 'ST Jayasuriya', 'V Kohli', 'Gagandeep Singh',\n",
       "       'Umar Gul', 'SC Ganguly', 'LR Shukla', 'PJ Sangwan',\n",
       "       'Shoaib Malik', 'V Sehwag', 'A Kumble', 'DP Vijaykumar',\n",
       "       'SB Styris', 'RR Raje', 'JA Morkel', 'L Balaji', 'CK Kapugedera',\n",
       "       'DR Smith', 'WPUJC Vaas', 'Y Venugopal Rao', 'AD Mascarenhas',\n",
       "       'A Mishra', 'DJ Thornely', 'PM Sarvesh Kumar', 'Abdur Razzak',\n",
       "       'TM Dilshan', 'SD Chitnis', 'M Ntini', 'RR Powar', 'SK Raina',\n",
       "       'BAW Mendis', 'T Thushara', 'A Flintoff', 'Kamran Khan',\n",
       "       'T Henderson', 'FH Edwards', 'Harmeet Singh', 'KP Pietersen',\n",
       "       'LRPL Taylor', 'JD Ryder', 'Anureet Singh', 'CH Gayle', 'RR Bose',\n",
       "       'YA Abdulla', 'RS Bopara', 'SL Malinga', 'DP Nannes', 'RG Sharma',\n",
       "       'Shoaib Ahmed', 'BJ Hodge', 'RA Jadeja', 'RE van der Merwe',\n",
       "       'KP Appanna', 'JP Duminy', 'SR Tendulkar', 'VS Malik',\n",
       "       'SM Harwood', 'AS Raut', 'D du Preez', 'RJ Harris', 'TL Suman',\n",
       "       'A Singh', 'M Morkel', 'LA Carseldine', 'S Tyagi', 'SB Jakati',\n",
       "       'A Mithun', 'AM Rahane', 'A Symonds', 'C Nanda', 'J Botha',\n",
       "       'CK Langeveldt', 'SS Sarkar', 'AM Salvi', 'Jaskaran Singh',\n",
       "       'SW Tait', 'A Uniyal', 'AA Jhunjhunwala', 'AD Mathews',\n",
       "       'RS Gavaskar', 'R Ashwin', 'JM Kemp', 'S Ladda', 'SE Bond',\n",
       "       'SJ Srivastava', 'Bipul Sharma', 'Y Nagar', 'UT Yadav',\n",
       "       'MC Henriques', 'R McLaren', 'J Theron', 'S Narwal', 'AC Voges',\n",
       "       'KAJ Roach', 'KA Pollard', 'C Ganapathy', 'SB Wagh', 'R Sharma',\n",
       "       'AN Ahmed', 'R Sathish', 'AP Dole', 'FY Fazal', 'PD Collingwood',\n",
       "       'MR Marsh', 'L Ablish', 'S Sriram', 'AB McDonald', 'DE Bollinger',\n",
       "       'JD Unadkat', 'MK Tiwary', 'ND Doshi', 'Iqbal Abdulla',\n",
       "       'AL Menaria', 'STR Binny', 'AUK Pathan', 'AG Murtaza',\n",
       "       'JEC Franklin', 'AC Thomas', 'WD Parnell', 'M Manhas',\n",
       "       'DT Christian', 'DB Ravi Teja', 'BA Bhatt', 'JJ van der Wath',\n",
       "       'S Aravind', 'R Ninan', 'Shakib Al Hasan', 'NLTC Perera',\n",
       "       'RV Gomez', 'PC Valthaty', 'S Nadeem', 'S Randiv',\n",
       "       'J Syed Mohammad', 'NL McCullum', 'JE Taylor', 'KMDN Kulasekara',\n",
       "       'TG Southee', 'P Parameswaran', 'S Dhawan', 'B Kumar', 'AA Kazi',\n",
       "       'VR Aaron', 'P Prasanth', 'Y Gnaneswara Rao', 'AA Chavan',\n",
       "       'RW Price', 'GJ Maxwell', 'JP Faulkner', 'DAJ Bracewell',\n",
       "       'Ankit Sharma', 'DJ Harris', 'TP Sudhindra', 'SP Narine',\n",
       "       'HV Patel', 'KK Cooper', 'GB Hogg', 'P Awana', 'MN Samuels',\n",
       "       'AD Russell', 'Azhar Mahmood', 'A Chandila', 'P Negi',\n",
       "       'RJ Peterson', 'CJ McKay', 'R Shukla', 'MJ Clarke',\n",
       "       'V Pratap Singh', 'A Ashish Reddy', 'BW Hilfenhaus', 'K Upadhyay',\n",
       "       'Sunny Gupta', 'MG Johnson', 'JJ Bumrah', 'AS Rajpoot',\n",
       "       'B Laughlin', 'GH Vihari', 'Mohammed Shami', 'BMAJ Mendis',\n",
       "       'CH Morris', 'Anand Rajan', 'AJ Finch', 'MM Sharma', 'KV Sharma',\n",
       "       'SMSM Senanayake', 'R Rampaul', 'R Dhawan', 'JO Holder',\n",
       "       'IC Pandey', 'LJ Wright', 'S Kaul', 'YS Chahal', 'KW Richardson',\n",
       "       'DJG Sammy', 'Sandeep Sharma', 'PV Tambe', 'Parvez Rasool',\n",
       "       'RN ten Doeschate', 'MG Neser', 'NM Coulter-Nile', 'CJ Anderson',\n",
       "       'MA Starc', 'AR Patel', 'JDS Neesham', 'M Vijay', 'SA Yadav',\n",
       "       'S Badree', 'R Tewatia', 'V Shankar', 'Imran Tahir',\n",
       "       'Shivam Sharma', 'S Rana', 'BE Hendricks', 'PJ Cummins',\n",
       "       'K Santokie', 'S Gopal', 'Karanveer Singh', 'DJ Muthuswami',\n",
       "       'TA Boult', 'SA Abbott', 'DJ Hooda', 'P Suyal', 'J Suchith',\n",
       "       'D Wiese', 'MJ McClenaghan', 'HH Pandya', 'RG More', 'GS Sandhu',\n",
       "       'M de Lange', 'J Yadav', 'Gurkeerat Singh', 'M Ashwin',\n",
       "       'JW Hastings', 'C Munro', 'Mustafizur Rahman', 'CR Brathwaite',\n",
       "       'KJ Abbott', 'P Sahu', 'BB Sran', 'KH Pandya', 'S Kaushik',\n",
       "       'T Shamsi', 'MP Stoinis', 'Swapnil Singh', 'SM Boland',\n",
       "       'CJ Jordan', 'KC Cariappa', 'A Zampa', 'BCJ Cutting', 'DL Chahar',\n",
       "       'KS Williamson', 'Kuldeep Yadav', 'TS Mills', 'A Choudhary',\n",
       "       'TM Head', 'BA Stokes', 'CR Woakes', 'T Natarajan', 'Rashid Khan',\n",
       "       'C de Grandhomme', 'Basil Thampi', 'AJ Tye', 'AF Milne',\n",
       "       'K Rabada', 'Washington Sundar', 'SN Thakur', 'SS Agarwal',\n",
       "       'NB Singh', 'Ankit Soni', 'Mohammad Nabi', 'Mohammed Siraj',\n",
       "       'LH Ferguson'], dtype=object)"
      ]
     },
     "metadata": {
      "tags": []
     },
     "execution_count": 33
    }
   ]
  },
  {
   "cell_type": "markdown",
   "metadata": {
    "id": "t4K2MgZYsIKR"
   },
   "source": [
    "# **Removing the first 5 overs data in every match**\n",
    "\n"
   ]
  },
  {
   "cell_type": "code",
   "metadata": {
    "id": "1h9bLgQqsVjV",
    "outputId": "377ed8b6-0c16-495e-b388-fe18ec959af2",
    "colab": {
     "base_uri": "https://localhost:8080/",
     "height": 50
    }
   },
   "source": [
    "print('Before removing first 5 overs data: {}'.format(df.shape))\n",
    "df = df[df['overs']>=5.0]\n",
    "print('After removing first 5 overs data: {}'.format(df.shape))"
   ],
   "execution_count": 34,
   "outputs": [
    {
     "output_type": "stream",
     "text": [
      "Before removing first 5 overs data: (76014, 8)\n",
      "After removing first 5 overs data: (56707, 8)\n"
     ],
     "name": "stdout"
    }
   ]
  },
  {
   "cell_type": "markdown",
   "metadata": {
    "id": "SkPoED-8sZNB"
   },
   "source": [
    "# **Encoding the data**"
   ]
  },
  {
   "cell_type": "code",
   "metadata": {
    "id": "hezMXwXXsbbO",
    "outputId": "83e82114-aced-4542-d7d9-072bbd75258e",
    "colab": {
     "base_uri": "https://localhost:8080/",
     "height": 168
    }
   },
   "source": [
    "# Converting the \"batsman\" and \"bowler\" features using OneHotEncoding method\n",
    "encoded_df = pd.get_dummies(data=df, columns=['batsman', 'bowler'])\n",
    "encoded_df.columns"
   ],
   "execution_count": 35,
   "outputs": [
    {
     "output_type": "execute_result",
     "data": {
      "text/plain": [
       "Index(['runs', 'wickets', 'overs', 'runs_last_5', 'wickets_last_5', 'total',\n",
       "       'batsman_A Ashish Reddy', 'batsman_A Chandila', 'batsman_A Chopra',\n",
       "       'batsman_A Choudhary',\n",
       "       ...\n",
       "       'bowler_WPUJC Vaas', 'bowler_Washington Sundar',\n",
       "       'bowler_Y Gnaneswara Rao', 'bowler_Y Nagar', 'bowler_Y Venugopal Rao',\n",
       "       'bowler_YA Abdulla', 'bowler_YK Pathan', 'bowler_YS Chahal',\n",
       "       'bowler_Yuvraj Singh', 'bowler_Z Khan'],\n",
       "      dtype='object', length=725)"
      ]
     },
     "metadata": {
      "tags": []
     },
     "execution_count": 35
    }
   ]
  },
  {
   "cell_type": "code",
   "metadata": {
    "id": "qX7Y79BCshYi",
    "outputId": "92b8a405-9267-42ee-bcd7-1b3b6fcd64a3",
    "colab": {
     "base_uri": "https://localhost:8080/",
     "height": 278
    }
   },
   "source": [
    "encoded_df.head() # returns the encoded data i.e all the strings have become numeric \n"
   ],
   "execution_count": 36,
   "outputs": [
    {
     "output_type": "execute_result",
     "data": {
      "text/html": [
       "<div>\n",
       "<style scoped>\n",
       "    .dataframe tbody tr th:only-of-type {\n",
       "        vertical-align: middle;\n",
       "    }\n",
       "\n",
       "    .dataframe tbody tr th {\n",
       "        vertical-align: top;\n",
       "    }\n",
       "\n",
       "    .dataframe thead th {\n",
       "        text-align: right;\n",
       "    }\n",
       "</style>\n",
       "<table border=\"1\" class=\"dataframe\">\n",
       "  <thead>\n",
       "    <tr style=\"text-align: right;\">\n",
       "      <th></th>\n",
       "      <th>runs</th>\n",
       "      <th>wickets</th>\n",
       "      <th>overs</th>\n",
       "      <th>runs_last_5</th>\n",
       "      <th>wickets_last_5</th>\n",
       "      <th>total</th>\n",
       "      <th>batsman_A Ashish Reddy</th>\n",
       "      <th>batsman_A Chandila</th>\n",
       "      <th>batsman_A Chopra</th>\n",
       "      <th>batsman_A Choudhary</th>\n",
       "      <th>batsman_A Flintoff</th>\n",
       "      <th>batsman_A Kumble</th>\n",
       "      <th>batsman_A Mishra</th>\n",
       "      <th>batsman_A Mithun</th>\n",
       "      <th>batsman_A Mukund</th>\n",
       "      <th>batsman_A Nehra</th>\n",
       "      <th>batsman_A Singh</th>\n",
       "      <th>batsman_A Symonds</th>\n",
       "      <th>batsman_A Uniyal</th>\n",
       "      <th>batsman_AA Bilakhia</th>\n",
       "      <th>batsman_AA Chavan</th>\n",
       "      <th>batsman_AA Jhunjhunwala</th>\n",
       "      <th>batsman_AB Agarkar</th>\n",
       "      <th>batsman_AB Dinda</th>\n",
       "      <th>batsman_AB McDonald</th>\n",
       "      <th>batsman_AB de Villiers</th>\n",
       "      <th>batsman_AC Blizzard</th>\n",
       "      <th>batsman_AC Gilchrist</th>\n",
       "      <th>batsman_AC Thomas</th>\n",
       "      <th>batsman_AC Voges</th>\n",
       "      <th>batsman_AD Mascarenhas</th>\n",
       "      <th>batsman_AD Mathews</th>\n",
       "      <th>batsman_AD Nath</th>\n",
       "      <th>batsman_AD Russell</th>\n",
       "      <th>batsman_AF Milne</th>\n",
       "      <th>batsman_AG Murtaza</th>\n",
       "      <th>batsman_AJ Finch</th>\n",
       "      <th>batsman_AJ Tye</th>\n",
       "      <th>batsman_AL Menaria</th>\n",
       "      <th>batsman_AM Nayar</th>\n",
       "      <th>...</th>\n",
       "      <th>bowler_Shivam Sharma</th>\n",
       "      <th>bowler_Shoaib Ahmed</th>\n",
       "      <th>bowler_Shoaib Malik</th>\n",
       "      <th>bowler_Sohail Tanvir</th>\n",
       "      <th>bowler_Sunny Gupta</th>\n",
       "      <th>bowler_Swapnil Singh</th>\n",
       "      <th>bowler_T Henderson</th>\n",
       "      <th>bowler_T Natarajan</th>\n",
       "      <th>bowler_T Shamsi</th>\n",
       "      <th>bowler_T Thushara</th>\n",
       "      <th>bowler_TA Boult</th>\n",
       "      <th>bowler_TG Southee</th>\n",
       "      <th>bowler_TL Suman</th>\n",
       "      <th>bowler_TM Dilshan</th>\n",
       "      <th>bowler_TM Head</th>\n",
       "      <th>bowler_TP Sudhindra</th>\n",
       "      <th>bowler_TS Mills</th>\n",
       "      <th>bowler_UT Yadav</th>\n",
       "      <th>bowler_Umar Gul</th>\n",
       "      <th>bowler_V Kohli</th>\n",
       "      <th>bowler_V Pratap Singh</th>\n",
       "      <th>bowler_V Sehwag</th>\n",
       "      <th>bowler_V Shankar</th>\n",
       "      <th>bowler_VR Aaron</th>\n",
       "      <th>bowler_VRV Singh</th>\n",
       "      <th>bowler_VS Malik</th>\n",
       "      <th>bowler_VS Yeligati</th>\n",
       "      <th>bowler_VY Mahesh</th>\n",
       "      <th>bowler_WA Mota</th>\n",
       "      <th>bowler_WD Parnell</th>\n",
       "      <th>bowler_WPUJC Vaas</th>\n",
       "      <th>bowler_Washington Sundar</th>\n",
       "      <th>bowler_Y Gnaneswara Rao</th>\n",
       "      <th>bowler_Y Nagar</th>\n",
       "      <th>bowler_Y Venugopal Rao</th>\n",
       "      <th>bowler_YA Abdulla</th>\n",
       "      <th>bowler_YK Pathan</th>\n",
       "      <th>bowler_YS Chahal</th>\n",
       "      <th>bowler_Yuvraj Singh</th>\n",
       "      <th>bowler_Z Khan</th>\n",
       "    </tr>\n",
       "  </thead>\n",
       "  <tbody>\n",
       "    <tr>\n",
       "      <th>32</th>\n",
       "      <td>61</td>\n",
       "      <td>0</td>\n",
       "      <td>5.1</td>\n",
       "      <td>59</td>\n",
       "      <td>0</td>\n",
       "      <td>222</td>\n",
       "      <td>0</td>\n",
       "      <td>0</td>\n",
       "      <td>0</td>\n",
       "      <td>0</td>\n",
       "      <td>0</td>\n",
       "      <td>0</td>\n",
       "      <td>0</td>\n",
       "      <td>0</td>\n",
       "      <td>0</td>\n",
       "      <td>0</td>\n",
       "      <td>0</td>\n",
       "      <td>0</td>\n",
       "      <td>0</td>\n",
       "      <td>0</td>\n",
       "      <td>0</td>\n",
       "      <td>0</td>\n",
       "      <td>0</td>\n",
       "      <td>0</td>\n",
       "      <td>0</td>\n",
       "      <td>0</td>\n",
       "      <td>0</td>\n",
       "      <td>0</td>\n",
       "      <td>0</td>\n",
       "      <td>0</td>\n",
       "      <td>0</td>\n",
       "      <td>0</td>\n",
       "      <td>0</td>\n",
       "      <td>0</td>\n",
       "      <td>0</td>\n",
       "      <td>0</td>\n",
       "      <td>0</td>\n",
       "      <td>0</td>\n",
       "      <td>0</td>\n",
       "      <td>0</td>\n",
       "      <td>...</td>\n",
       "      <td>0</td>\n",
       "      <td>0</td>\n",
       "      <td>0</td>\n",
       "      <td>0</td>\n",
       "      <td>0</td>\n",
       "      <td>0</td>\n",
       "      <td>0</td>\n",
       "      <td>0</td>\n",
       "      <td>0</td>\n",
       "      <td>0</td>\n",
       "      <td>0</td>\n",
       "      <td>0</td>\n",
       "      <td>0</td>\n",
       "      <td>0</td>\n",
       "      <td>0</td>\n",
       "      <td>0</td>\n",
       "      <td>0</td>\n",
       "      <td>0</td>\n",
       "      <td>0</td>\n",
       "      <td>0</td>\n",
       "      <td>0</td>\n",
       "      <td>0</td>\n",
       "      <td>0</td>\n",
       "      <td>0</td>\n",
       "      <td>0</td>\n",
       "      <td>0</td>\n",
       "      <td>0</td>\n",
       "      <td>0</td>\n",
       "      <td>0</td>\n",
       "      <td>0</td>\n",
       "      <td>0</td>\n",
       "      <td>0</td>\n",
       "      <td>0</td>\n",
       "      <td>0</td>\n",
       "      <td>0</td>\n",
       "      <td>0</td>\n",
       "      <td>0</td>\n",
       "      <td>0</td>\n",
       "      <td>0</td>\n",
       "      <td>1</td>\n",
       "    </tr>\n",
       "    <tr>\n",
       "      <th>33</th>\n",
       "      <td>61</td>\n",
       "      <td>1</td>\n",
       "      <td>5.2</td>\n",
       "      <td>59</td>\n",
       "      <td>1</td>\n",
       "      <td>222</td>\n",
       "      <td>0</td>\n",
       "      <td>0</td>\n",
       "      <td>0</td>\n",
       "      <td>0</td>\n",
       "      <td>0</td>\n",
       "      <td>0</td>\n",
       "      <td>0</td>\n",
       "      <td>0</td>\n",
       "      <td>0</td>\n",
       "      <td>0</td>\n",
       "      <td>0</td>\n",
       "      <td>0</td>\n",
       "      <td>0</td>\n",
       "      <td>0</td>\n",
       "      <td>0</td>\n",
       "      <td>0</td>\n",
       "      <td>0</td>\n",
       "      <td>0</td>\n",
       "      <td>0</td>\n",
       "      <td>0</td>\n",
       "      <td>0</td>\n",
       "      <td>0</td>\n",
       "      <td>0</td>\n",
       "      <td>0</td>\n",
       "      <td>0</td>\n",
       "      <td>0</td>\n",
       "      <td>0</td>\n",
       "      <td>0</td>\n",
       "      <td>0</td>\n",
       "      <td>0</td>\n",
       "      <td>0</td>\n",
       "      <td>0</td>\n",
       "      <td>0</td>\n",
       "      <td>0</td>\n",
       "      <td>...</td>\n",
       "      <td>0</td>\n",
       "      <td>0</td>\n",
       "      <td>0</td>\n",
       "      <td>0</td>\n",
       "      <td>0</td>\n",
       "      <td>0</td>\n",
       "      <td>0</td>\n",
       "      <td>0</td>\n",
       "      <td>0</td>\n",
       "      <td>0</td>\n",
       "      <td>0</td>\n",
       "      <td>0</td>\n",
       "      <td>0</td>\n",
       "      <td>0</td>\n",
       "      <td>0</td>\n",
       "      <td>0</td>\n",
       "      <td>0</td>\n",
       "      <td>0</td>\n",
       "      <td>0</td>\n",
       "      <td>0</td>\n",
       "      <td>0</td>\n",
       "      <td>0</td>\n",
       "      <td>0</td>\n",
       "      <td>0</td>\n",
       "      <td>0</td>\n",
       "      <td>0</td>\n",
       "      <td>0</td>\n",
       "      <td>0</td>\n",
       "      <td>0</td>\n",
       "      <td>0</td>\n",
       "      <td>0</td>\n",
       "      <td>0</td>\n",
       "      <td>0</td>\n",
       "      <td>0</td>\n",
       "      <td>0</td>\n",
       "      <td>0</td>\n",
       "      <td>0</td>\n",
       "      <td>0</td>\n",
       "      <td>0</td>\n",
       "      <td>1</td>\n",
       "    </tr>\n",
       "    <tr>\n",
       "      <th>34</th>\n",
       "      <td>61</td>\n",
       "      <td>1</td>\n",
       "      <td>5.3</td>\n",
       "      <td>59</td>\n",
       "      <td>1</td>\n",
       "      <td>222</td>\n",
       "      <td>0</td>\n",
       "      <td>0</td>\n",
       "      <td>0</td>\n",
       "      <td>0</td>\n",
       "      <td>0</td>\n",
       "      <td>0</td>\n",
       "      <td>0</td>\n",
       "      <td>0</td>\n",
       "      <td>0</td>\n",
       "      <td>0</td>\n",
       "      <td>0</td>\n",
       "      <td>0</td>\n",
       "      <td>0</td>\n",
       "      <td>0</td>\n",
       "      <td>0</td>\n",
       "      <td>0</td>\n",
       "      <td>0</td>\n",
       "      <td>0</td>\n",
       "      <td>0</td>\n",
       "      <td>0</td>\n",
       "      <td>0</td>\n",
       "      <td>0</td>\n",
       "      <td>0</td>\n",
       "      <td>0</td>\n",
       "      <td>0</td>\n",
       "      <td>0</td>\n",
       "      <td>0</td>\n",
       "      <td>0</td>\n",
       "      <td>0</td>\n",
       "      <td>0</td>\n",
       "      <td>0</td>\n",
       "      <td>0</td>\n",
       "      <td>0</td>\n",
       "      <td>0</td>\n",
       "      <td>...</td>\n",
       "      <td>0</td>\n",
       "      <td>0</td>\n",
       "      <td>0</td>\n",
       "      <td>0</td>\n",
       "      <td>0</td>\n",
       "      <td>0</td>\n",
       "      <td>0</td>\n",
       "      <td>0</td>\n",
       "      <td>0</td>\n",
       "      <td>0</td>\n",
       "      <td>0</td>\n",
       "      <td>0</td>\n",
       "      <td>0</td>\n",
       "      <td>0</td>\n",
       "      <td>0</td>\n",
       "      <td>0</td>\n",
       "      <td>0</td>\n",
       "      <td>0</td>\n",
       "      <td>0</td>\n",
       "      <td>0</td>\n",
       "      <td>0</td>\n",
       "      <td>0</td>\n",
       "      <td>0</td>\n",
       "      <td>0</td>\n",
       "      <td>0</td>\n",
       "      <td>0</td>\n",
       "      <td>0</td>\n",
       "      <td>0</td>\n",
       "      <td>0</td>\n",
       "      <td>0</td>\n",
       "      <td>0</td>\n",
       "      <td>0</td>\n",
       "      <td>0</td>\n",
       "      <td>0</td>\n",
       "      <td>0</td>\n",
       "      <td>0</td>\n",
       "      <td>0</td>\n",
       "      <td>0</td>\n",
       "      <td>0</td>\n",
       "      <td>1</td>\n",
       "    </tr>\n",
       "    <tr>\n",
       "      <th>35</th>\n",
       "      <td>61</td>\n",
       "      <td>1</td>\n",
       "      <td>5.4</td>\n",
       "      <td>59</td>\n",
       "      <td>1</td>\n",
       "      <td>222</td>\n",
       "      <td>0</td>\n",
       "      <td>0</td>\n",
       "      <td>0</td>\n",
       "      <td>0</td>\n",
       "      <td>0</td>\n",
       "      <td>0</td>\n",
       "      <td>0</td>\n",
       "      <td>0</td>\n",
       "      <td>0</td>\n",
       "      <td>0</td>\n",
       "      <td>0</td>\n",
       "      <td>0</td>\n",
       "      <td>0</td>\n",
       "      <td>0</td>\n",
       "      <td>0</td>\n",
       "      <td>0</td>\n",
       "      <td>0</td>\n",
       "      <td>0</td>\n",
       "      <td>0</td>\n",
       "      <td>0</td>\n",
       "      <td>0</td>\n",
       "      <td>0</td>\n",
       "      <td>0</td>\n",
       "      <td>0</td>\n",
       "      <td>0</td>\n",
       "      <td>0</td>\n",
       "      <td>0</td>\n",
       "      <td>0</td>\n",
       "      <td>0</td>\n",
       "      <td>0</td>\n",
       "      <td>0</td>\n",
       "      <td>0</td>\n",
       "      <td>0</td>\n",
       "      <td>0</td>\n",
       "      <td>...</td>\n",
       "      <td>0</td>\n",
       "      <td>0</td>\n",
       "      <td>0</td>\n",
       "      <td>0</td>\n",
       "      <td>0</td>\n",
       "      <td>0</td>\n",
       "      <td>0</td>\n",
       "      <td>0</td>\n",
       "      <td>0</td>\n",
       "      <td>0</td>\n",
       "      <td>0</td>\n",
       "      <td>0</td>\n",
       "      <td>0</td>\n",
       "      <td>0</td>\n",
       "      <td>0</td>\n",
       "      <td>0</td>\n",
       "      <td>0</td>\n",
       "      <td>0</td>\n",
       "      <td>0</td>\n",
       "      <td>0</td>\n",
       "      <td>0</td>\n",
       "      <td>0</td>\n",
       "      <td>0</td>\n",
       "      <td>0</td>\n",
       "      <td>0</td>\n",
       "      <td>0</td>\n",
       "      <td>0</td>\n",
       "      <td>0</td>\n",
       "      <td>0</td>\n",
       "      <td>0</td>\n",
       "      <td>0</td>\n",
       "      <td>0</td>\n",
       "      <td>0</td>\n",
       "      <td>0</td>\n",
       "      <td>0</td>\n",
       "      <td>0</td>\n",
       "      <td>0</td>\n",
       "      <td>0</td>\n",
       "      <td>0</td>\n",
       "      <td>1</td>\n",
       "    </tr>\n",
       "    <tr>\n",
       "      <th>36</th>\n",
       "      <td>61</td>\n",
       "      <td>1</td>\n",
       "      <td>5.5</td>\n",
       "      <td>58</td>\n",
       "      <td>1</td>\n",
       "      <td>222</td>\n",
       "      <td>0</td>\n",
       "      <td>0</td>\n",
       "      <td>0</td>\n",
       "      <td>0</td>\n",
       "      <td>0</td>\n",
       "      <td>0</td>\n",
       "      <td>0</td>\n",
       "      <td>0</td>\n",
       "      <td>0</td>\n",
       "      <td>0</td>\n",
       "      <td>0</td>\n",
       "      <td>0</td>\n",
       "      <td>0</td>\n",
       "      <td>0</td>\n",
       "      <td>0</td>\n",
       "      <td>0</td>\n",
       "      <td>0</td>\n",
       "      <td>0</td>\n",
       "      <td>0</td>\n",
       "      <td>0</td>\n",
       "      <td>0</td>\n",
       "      <td>0</td>\n",
       "      <td>0</td>\n",
       "      <td>0</td>\n",
       "      <td>0</td>\n",
       "      <td>0</td>\n",
       "      <td>0</td>\n",
       "      <td>0</td>\n",
       "      <td>0</td>\n",
       "      <td>0</td>\n",
       "      <td>0</td>\n",
       "      <td>0</td>\n",
       "      <td>0</td>\n",
       "      <td>0</td>\n",
       "      <td>...</td>\n",
       "      <td>0</td>\n",
       "      <td>0</td>\n",
       "      <td>0</td>\n",
       "      <td>0</td>\n",
       "      <td>0</td>\n",
       "      <td>0</td>\n",
       "      <td>0</td>\n",
       "      <td>0</td>\n",
       "      <td>0</td>\n",
       "      <td>0</td>\n",
       "      <td>0</td>\n",
       "      <td>0</td>\n",
       "      <td>0</td>\n",
       "      <td>0</td>\n",
       "      <td>0</td>\n",
       "      <td>0</td>\n",
       "      <td>0</td>\n",
       "      <td>0</td>\n",
       "      <td>0</td>\n",
       "      <td>0</td>\n",
       "      <td>0</td>\n",
       "      <td>0</td>\n",
       "      <td>0</td>\n",
       "      <td>0</td>\n",
       "      <td>0</td>\n",
       "      <td>0</td>\n",
       "      <td>0</td>\n",
       "      <td>0</td>\n",
       "      <td>0</td>\n",
       "      <td>0</td>\n",
       "      <td>0</td>\n",
       "      <td>0</td>\n",
       "      <td>0</td>\n",
       "      <td>0</td>\n",
       "      <td>0</td>\n",
       "      <td>0</td>\n",
       "      <td>0</td>\n",
       "      <td>0</td>\n",
       "      <td>0</td>\n",
       "      <td>1</td>\n",
       "    </tr>\n",
       "  </tbody>\n",
       "</table>\n",
       "<p>5 rows × 725 columns</p>\n",
       "</div>"
      ],
      "text/plain": [
       "    runs  wickets  overs  ...  bowler_YS Chahal  bowler_Yuvraj Singh  bowler_Z Khan\n",
       "32    61        0    5.1  ...                 0                    0              1\n",
       "33    61        1    5.2  ...                 0                    0              1\n",
       "34    61        1    5.3  ...                 0                    0              1\n",
       "35    61        1    5.4  ...                 0                    0              1\n",
       "36    61        1    5.5  ...                 0                    0              1\n",
       "\n",
       "[5 rows x 725 columns]"
      ]
     },
     "metadata": {
      "tags": []
     },
     "execution_count": 36
    }
   ]
  },
  {
   "cell_type": "markdown",
   "metadata": {
    "id": "bv8tcZsqsmA9"
   },
   "source": [
    "# **Splitting the dataset for training and testing**\n"
   ]
  },
  {
   "cell_type": "code",
   "metadata": {
    "id": "MHuw396Ksm66"
   },
   "source": [
    "X = encoded_df.drop('total',axis=1) # X contains all the input features \n",
    "y = encoded_df['total'] # Y contains  the output label "
   ],
   "execution_count": 37,
   "outputs": []
  },
  {
   "cell_type": "code",
   "metadata": {
    "id": "Df9cDcRsstaX"
   },
   "source": [
    "# Using train-test ratio as 70:30. \n",
    "from sklearn.model_selection import train_test_split\n",
    "X_train, X_test, y_train, y_test = train_test_split(X,y,test_size = 0.3,random_state=0)\n"
   ],
   "execution_count": 38,
   "outputs": []
  },
  {
   "cell_type": "markdown",
   "metadata": {
    "id": "9B1mAgWfswxl"
   },
   "source": [
    "# **Preprocessing**"
   ]
  },
  {
   "cell_type": "code",
   "metadata": {
    "id": "Ib2faQF9s0wh"
   },
   "source": [
    "# Normalising all the data values using MinMaxScaler\n",
    "\n",
    "from sklearn.preprocessing import MinMaxScaler\n",
    "scaler = MinMaxScaler()\n",
    "norm = scaler.fit(X_train)"
   ],
   "execution_count": 39,
   "outputs": []
  },
  {
   "cell_type": "code",
   "metadata": {
    "id": "kFamnz1Zs6TH"
   },
   "source": [
    "X_train=norm.transform(X_train) \n",
    "X_test = norm.transform(X_test)"
   ],
   "execution_count": 40,
   "outputs": []
  },
  {
   "cell_type": "markdown",
   "metadata": {
    "id": "Aq40GXyAs9gW"
   },
   "source": [
    "# **Random Forest Regression Model**"
   ]
  },
  {
   "cell_type": "code",
   "metadata": {
    "id": "nbqbYsEls-pY",
    "outputId": "bb896c3d-b129-4578-a7fa-13d08afc7036",
    "colab": {
     "base_uri": "https://localhost:8080/",
     "height": 134
    }
   },
   "source": [
    "from math import *\n",
    "from sklearn.ensemble import RandomForestRegressor\n",
    "reg = RandomForestRegressor(n_estimators=10,random_state=0)\n",
    "reg.fit(X_train,y_train) # the training set of X an Y have been used to train the random forest regressor model \n"
   ],
   "execution_count": 41,
   "outputs": [
    {
     "output_type": "execute_result",
     "data": {
      "text/plain": [
       "RandomForestRegressor(bootstrap=True, ccp_alpha=0.0, criterion='mse',\n",
       "                      max_depth=None, max_features='auto', max_leaf_nodes=None,\n",
       "                      max_samples=None, min_impurity_decrease=0.0,\n",
       "                      min_impurity_split=None, min_samples_leaf=1,\n",
       "                      min_samples_split=2, min_weight_fraction_leaf=0.0,\n",
       "                      n_estimators=10, n_jobs=None, oob_score=False,\n",
       "                      random_state=0, verbose=0, warm_start=False)"
      ]
     },
     "metadata": {
      "tags": []
     },
     "execution_count": 41
    }
   ]
  },
  {
   "cell_type": "code",
   "metadata": {
    "id": "OcT1QPyJtijZ",
    "outputId": "2b20f425-62e7-4eed-c434-afb0adf5ab89",
    "colab": {
     "base_uri": "https://localhost:8080/",
     "height": 34
    }
   },
   "source": [
    "reg.score(X_train,y_train) # gives an accuracy of 98%"
   ],
   "execution_count": 42,
   "outputs": [
    {
     "output_type": "execute_result",
     "data": {
      "text/plain": [
       "0.9775840925828115"
      ]
     },
     "metadata": {
      "tags": []
     },
     "execution_count": 42
    }
   ]
  },
  {
   "cell_type": "code",
   "metadata": {
    "id": "4HnlYzu4tm0f",
    "outputId": "249939fa-77ab-418e-988e-0eb533de6064",
    "colab": {
     "base_uri": "https://localhost:8080/",
     "height": 34
    }
   },
   "source": [
    "reg.score(X_test,y_test) # gives an accuracy of 88%"
   ],
   "execution_count": 43,
   "outputs": [
    {
     "output_type": "execute_result",
     "data": {
      "text/plain": [
       "0.8764438600459298"
      ]
     },
     "metadata": {
      "tags": []
     },
     "execution_count": 43
    }
   ]
  },
  {
   "cell_type": "code",
   "metadata": {
    "id": "E92jhxYYtpqm"
   },
   "source": [
    "# Random Forest Regression - Model Evaluation\n",
    "y_pred = reg.predict(X_test)"
   ],
   "execution_count": 44,
   "outputs": []
  },
  {
   "cell_type": "code",
   "metadata": {
    "id": "RzC_-il8tsow",
    "outputId": "b9e693fc-df3e-4246-9cb7-4dfa5994ee1c",
    "colab": {
     "base_uri": "https://localhost:8080/",
     "height": 67
    }
   },
   "source": [
    "from sklearn.metrics import mean_absolute_error as mae, mean_squared_error as mse, accuracy_score\n",
    "# we find MSE RMSE over here because accuracy score is a classification metric \n",
    "print(\"Mean Absolute Error (MAE): {}\".format(mae(y_test, y_pred)))\n",
    "print(\"Mean Squared Error (MSE): {}\".format(mse(y_test, y_pred)))\n",
    "print(\"Root Mean Squared Error (RMSE): {}\".format(np.sqrt(mse(y_test, y_pred))))"
   ],
   "execution_count": 45,
   "outputs": [
    {
     "output_type": "stream",
     "text": [
      "Mean Absolute Error (MAE): 6.72615059072474\n",
      "Mean Squared Error (MSE): 104.86372891318405\n",
      "Root Mean Squared Error (RMSE): 10.240299258966216\n"
     ],
     "name": "stdout"
    }
   ]
  },
  {
   "cell_type": "markdown",
   "metadata": {
    "id": "f0sNCjxFtxaY"
   },
   "source": [
    "# **Predicting for own data**"
   ]
  },
  {
   "cell_type": "code",
   "metadata": {
    "id": "vcjSsz13tzTt"
   },
   "source": [
    "# The below is an already preprocessed and encoded data for which we are going to predict\n",
    "\n",
    "pred_data = np.array([[0.2 , 0.        , 0.10958903, 0.33962274, 0.        ,\n",
    "       0.        , 0.        , 0.        , 0.        , 0.        ,\n",
    "       0.        , 0.        , 0.        , 0.        , 0.        ,\n",
    "       0.        , 0.        , 0.        , 0.        , 0.        ,\n",
    "       0.        , 0.        , 0.        , 0.        , 0.        ,\n",
    "       0.        , 0.        , 0.        , 0.        , 0.        ,\n",
    "       0.        , 0.        , 0.        , 0.        , 0.        ,\n",
    "       0.        , 0.        , 0.        , 0.        , 0.        ,\n",
    "       0.        , 0.        , 0.        , 0.        , 0.        ,\n",
    "       0.        , 0.        , 0.        , 0.        , 0.        ,\n",
    "       0.        , 0.        , 0.        , 0.        , 0.        ,\n",
    "       0.        , 0.        , 0.        , 0.        , 0.        ,\n",
    "       0.        , 0.        , 0.        , 0.        , 0.        ,\n",
    "       0.        , 0.        , 0.        , 0.        , 0.        ,\n",
    "       0.        , 0.        , 0.        , 0.        , 0.        ,\n",
    "       0.        , 0.        , 0.        , 0.        , 0.        ,\n",
    "       0.        , 0.        , 0.        , 0.        , 0.        ,\n",
    "       0.        , 0.        , 0.        , 0.        , 0.        ,\n",
    "       0.        , 0.        , 0.        , 0.        , 0.        ,\n",
    "       0.        , 0.        , 0.        , 0.        , 0.        ,\n",
    "       0.        , 0.        , 0.        , 0.        , 0.        ,\n",
    "       0.        , 0.        , 0.        , 0.        , 0.        ,\n",
    "       0.        , 0.        , 0.        , 0.        , 0.        ,\n",
    "       0.        , 0.        , 0.        , 0.        , 0.        ,\n",
    "       0.        , 0.        , 0.        , 0.        , 0.        ,\n",
    "       0.        , 0.        , 0.        , 0.        , 0.        ,\n",
    "       0.        , 0.        , 0.        , 0.        , 0.        ,\n",
    "       0.        , 0.        , 0.        , 0.        , 0.        ,\n",
    "       0.        , 0.        , 0.        , 0.        , 0.        ,\n",
    "       0.        , 0.        , 0.        , 0.        , 0.        ,\n",
    "       0.        , 0.        , 0.        , 0.        , 0.        ,\n",
    "       0.        , 0.        , 0.        , 0.        , 0.        ,\n",
    "       0.        , 0.        , 0.        , 0.        , 0.        ,\n",
    "       0.        , 0.        , 0.        , 0.        , 0.        ,\n",
    "       0.        , 0.        , 0.        , 0.        , 0.        ,\n",
    "       0.        , 0.        , 0.        , 0.        , 0.        ,\n",
    "       0.        , 0.        , 0.        , 0.        , 0.        ,\n",
    "       0.        , 0.        , 0.        , 0.        , 0.        ,\n",
    "       0.        , 0.        , 0.        , 0.        , 0.        ,\n",
    "       0.        , 0.        , 0.        , 0.        , 0.        ,\n",
    "       0.        , 0.        , 0.        , 0.        , 0.        ,\n",
    "       0.        , 0.        , 0.        , 0.        , 0.        ,\n",
    "       0.        , 0.        , 0.        , 0.        , 0.        ,\n",
    "       0.        , 0.        , 0.        , 0.        , 0.        ,\n",
    "       0.        , 0.        , 0.        , 0.        , 0.        ,\n",
    "       0.        , 0.        , 0.        , 0.        , 0.        ,\n",
    "       0.        , 0.        , 0.        , 0.        , 0.        ,\n",
    "       0.        , 0.        , 0.        , 0.        , 0.        ,\n",
    "       0.        , 0.        , 0.        , 0.        , 0.        ,\n",
    "       0.        , 0.        , 0.        , 0.        , 0.        ,\n",
    "       0.        , 0.        , 0.        , 0.        , 0.        ,\n",
    "       0.        , 0.        , 0.        , 0.        , 0.        ,\n",
    "       0.        , 0.        , 0.        , 0.        , 0.        ,\n",
    "       0.        , 0.        , 0.        , 0.        , 0.        ,\n",
    "       0.        , 0.        , 0.        , 0.        , 0.        ,\n",
    "       0.        , 0.        , 0.        , 0.        , 0.        ,\n",
    "       0.        , 0.        , 0.        , 0.        , 0.        ,\n",
    "       0.        , 0.        , 0.        , 0.        , 0.        ,\n",
    "       0.        , 0.        , 0.        , 0.        , 0.        ,\n",
    "       0.        , 0.        , 0.        , 0.        , 0.        ,\n",
    "       0.        , 0.        , 0.        , 0.        , 0.        ,\n",
    "       0.        , 0.        , 0.        , 0.        , 0.        ,\n",
    "       0.        , 0.        , 0.        , 0.        , 0.        ,\n",
    "       1.        , 0.        , 0.        , 0.        , 0.        ,\n",
    "       0.        , 0.        , 0.        , 0.        , 0.        ,\n",
    "       0.        , 0.        , 0.        , 0.        , 0.        ,\n",
    "       0.        , 0.        , 0.        , 0.        , 0.        ,\n",
    "       0.        , 0.        , 0.        , 0.        , 0.        ,\n",
    "       0.        , 0.        , 0.        , 0.        , 0.        ,\n",
    "       0.        , 0.        , 0.        , 0.        , 0.        ,\n",
    "       0.        , 0.        , 0.        , 0.        , 0.        ,\n",
    "       0.        , 0.        , 0.        , 0.        , 0.        ,\n",
    "       0.        , 0.        , 0.        , 0.        , 0.        ,\n",
    "       0.        , 0.        , 0.        , 0.        , 0.        ,\n",
    "       0.        , 0.        , 0.        , 0.        , 0.        ,\n",
    "       0.        , 0.        , 0.        , 0.        , 0.        ,\n",
    "       0.        , 0.        , 0.        , 0.        , 0.        ,\n",
    "       0.        , 0.        , 0.        , 0.        , 0.        ,\n",
    "       0.        , 0.        , 0.        , 0.        , 0.        ,\n",
    "       0.        , 0.        , 0.        , 0.        , 0.        ,\n",
    "       0.        , 0.        , 0.        , 0.        , 0.        ,\n",
    "       0.        , 0.        , 0.        , 0.        , 0.        ,\n",
    "       0.        , 0.        , 0.        , 0.        , 0.        ,\n",
    "       0.        , 0.        , 0.        , 0.        , 0.        ,\n",
    "       0.        , 0.        , 0.        , 0.        , 0.        ,\n",
    "       0.        , 0.        , 0.        , 0.        , 0.        ,\n",
    "       0.        , 0.        , 0.        , 0.        , 0.        ,\n",
    "       0.        , 0.        , 0.        , 0.        , 0.        ,\n",
    "       0.        , 0.        , 0.        , 0.        , 0.        ,\n",
    "       0.        , 0.        , 0.        , 0.        , 0.        ,\n",
    "       0.        , 0.        , 0.        , 0.        , 0.        ,\n",
    "       0.        , 0.        , 0.        , 0.        , 0.        ,\n",
    "       0.        , 0.        , 0.        , 0.        , 0.        ,\n",
    "       0.        , 0.        , 0.        , 0.        , 0.        ,\n",
    "       0.        , 0.        , 0.        , 0.        , 0.        ,\n",
    "       0.        , 0.        , 0.        , 0.        , 0.        ,\n",
    "       0.        , 0.        , 0.        , 0.        , 0.        ,\n",
    "       0.        , 0.        , 0.        , 0.        , 0.        ,\n",
    "       0.        , 0.        , 0.        , 0.        , 0.        ,\n",
    "       0.        , 0.        , 0.        , 0.        , 0.        ,\n",
    "       0.        , 0.        , 0.        , 0.        , 0.        ,\n",
    "       0.        , 0.        , 0.        , 0.        , 0.        ,\n",
    "       0.        , 0.        , 0.        , 0.        , 0.        ,\n",
    "       0.        , 0.        , 0.        , 0.        , 0.        ,\n",
    "       0.        , 0.        , 0.        , 0.        , 0.        ,\n",
    "       0.        , 0.        , 0.        , 1.        , 0.        ,\n",
    "       0.        , 0.        , 0.        , 0.        , 0.        ,\n",
    "       0.        , 0.        , 0.        , 0.        , 0.        ,\n",
    "       0.        , 0.        , 0.        , 0.        , 0.        ,\n",
    "       0.        , 0.        , 0.        , 0.        , 0.        ,\n",
    "       0.        , 0.        , 0.        , 0.        , 0.        ,\n",
    "       0.        , 0.        , 0.        , 0.        , 0.        ,\n",
    "       0.        , 0.        , 0.        , 0.        , 0.        ,\n",
    "       0.        , 0.        , 0.        , 0.        , 0.        ,\n",
    "       0.        , 0.        , 0.        , 0.        , 0.        ,\n",
    "       0.        , 0.        , 0.        , 0.        , 0.        ,\n",
    "       0.        , 0.        , 0.        , 0.        , 0.        ,\n",
    "       0.        , 0.        , 0.        , 0.        , 0.        ,\n",
    "       0.        , 0.        , 0.        , 0.        , 0.        ,\n",
    "       0.        , 0.        , 0.        , 0.        , 0.        ,\n",
    "       0.        , 0.        , 0.        , 0.        , 0.        ,\n",
    "       0.        , 0.        , 0.        , 0.        , 0.        ,\n",
    "       0.        , 0.        , 0.        , 0.        , 0.        ,\n",
    "       0.        , 0.        , 0.        , 0.        , 0.        ,\n",
    "       0.        , 0.        , 0.        , 0.        , 0.        ,\n",
    "       0.        , 0.        , 0.        , 0.        , 0.        ,\n",
    "       0.        , 0.        , 0.        , 0.        , 0.        ,\n",
    "       0.        , 0.        , 0.        , 0.        , 0.        ,\n",
    "       0.        , 0.        , 0.        , 0.        , 0.        ,\n",
    "       0.        , 0.        , 0.        , 0.        , 0.        ,\n",
    "       0.        , 0.        , 0.        , 0.        , 0.        ,\n",
    "       0.        , 0.        , 0.        , 0.        , 0.        ,\n",
    "       0.        , 0.        , 0.        , 0.        , 0.        ,\n",
    "       0.        , 0.        , 0.        , 0.        , 0.        ,\n",
    "       0.        , 0.        , 0.        , 0.        , 0.        ,\n",
    "       0.        , 0.        , 0.        , 0.        , 0.        ,\n",
    "       0.        , 0.        , 0.        , 0.        , 0.        ,\n",
    "       0.        , 0.        , 0.        , 0.        , 0.        ,\n",
    "       0.        , 0.        , 0.        , 0.        , 0.        ,\n",
    "       0.        , 0.        , 0.        , 0.        , 0.        ,\n",
    "       0.        , 0.        , 0.        , 0.        , 0.        ,\n",
    "       0.        , 0.        , 0.        , 0.        , 0.        ,\n",
    "       0.        , 0.        , 0.        , 0.        , 0.        ,\n",
    "       0.        , 0.        , 0.        , 0.        , 0.        ,\n",
    "       0.        , 0.        , 0.        , 0.        ]])\n"
   ],
   "execution_count": 46,
   "outputs": []
  },
  {
   "cell_type": "code",
   "metadata": {
    "id": "h3JwSCuqt7tp",
    "outputId": "e1ed79e2-f807-47a9-a1a7-9c94d9d60a65",
    "colab": {
     "base_uri": "https://localhost:8080/",
     "height": 34
    }
   },
   "source": [
    "# Predicting total score for the above data\n",
    "y_pred=reg.predict(pred_data)\n",
    "print(y_pred)\n",
    "\n",
    "#Expected total score : 196.\n",
    "#Predicted score : 194"
   ],
   "execution_count": 47,
   "outputs": [
    {
     "output_type": "stream",
     "text": [
      "[194.]\n"
     ],
     "name": "stdout"
    }
   ]
  }
 ]
}